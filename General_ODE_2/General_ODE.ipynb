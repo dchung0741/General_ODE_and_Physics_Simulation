{
 "cells": [
  {
   "cell_type": "code",
   "execution_count": 1,
   "metadata": {},
   "outputs": [],
   "source": [
    "from math import sin, cos\n",
    "from numpy import linspace\n",
    "from typing import List\n",
    "import abc"
   ]
  },
  {
   "cell_type": "code",
   "execution_count": 2,
   "metadata": {},
   "outputs": [],
   "source": [
    "class Variable:\n",
    "\n",
    "    def __init__(self, name, order = 0) -> None:\n",
    "        \n",
    "        self.name = name\n",
    "        self.order = order\n",
    "        self.solution_dict = {self.d(i): [] for i in range(self.order)}\n",
    "        \n",
    "        self.K1_list = {self.d(i):[] for i in range(self.order)}\n",
    "        self.K2_list = {self.d(i):[] for i in range(self.order)}\n",
    "        self.K3_list = {self.d(i):[] for i in range(self.order)}\n",
    "        self.K4_list = {self.d(i):[] for i in range(self.order)}\n",
    "\n",
    "    def d(self, order):\n",
    "        d_name = f'{self.name}[{order}]'\n",
    "        return d_name\n",
    "\n",
    "    def set_inital_condition(self, ic: dict):\n",
    "        for i in ic:\n",
    "            self.solution_dict[i].append(ic[i])\n",
    "    \n",
    "    def update_K_list(self):\n",
    "        pass\n",
    "    \n",
    "    def rep_dict(self, rep_list):\n",
    "\n",
    "        if len(rep_list) != self.order:\n",
    "            raise Exception\n",
    "        else:\n",
    "            return {self.d(i): el for i, el in enumerate(rep_list)}\n",
    "    \n",
    "    def rule(self):\n",
    "        pass"
   ]
  },
  {
   "cell_type": "code",
   "execution_count": 3,
   "metadata": {},
   "outputs": [
    {
     "name": "stdout",
     "output_type": "stream",
     "text": [
      "{'X[0]': [3], 'X[1]': [2], 'X[2]': [1]}\n",
      "{'X[0]': 87, 'X[1]': 6, 'X[2]': 29}\n"
     ]
    }
   ],
   "source": [
    "X = Variable('X', order = 3)    \n",
    "X_ic = {X.d(0): 3, X.d(1): 2, X.d(2): 1}\n",
    "X.set_inital_condition(X_ic)\n",
    "print(X.solution_dict)\n",
    "print(X.rep([87, 6, 29]))"
   ]
  },
  {
   "cell_type": "code",
   "execution_count": 8,
   "metadata": {},
   "outputs": [
    {
     "data": {
      "text/plain": [
       "'X[0]'"
      ]
     },
     "execution_count": 8,
     "metadata": {},
     "output_type": "execute_result"
    }
   ],
   "source": [
    "X.d(0)."
   ]
  },
  {
   "cell_type": "code",
   "execution_count": 7,
   "metadata": {},
   "outputs": [
    {
     "data": {
      "text/plain": [
       "'X'"
      ]
     },
     "execution_count": 7,
     "metadata": {},
     "output_type": "execute_result"
    }
   ],
   "source": [
    "X.name"
   ]
  },
  {
   "cell_type": "code",
   "execution_count": 4,
   "metadata": {},
   "outputs": [],
   "source": [
    "def f1(t, X_rep, Y_rep):\n",
    "    \n",
    "    return - X_rep[X.d(0)]**2\n"
   ]
  },
  {
   "cell_type": "code",
   "execution_count": 7,
   "metadata": {},
   "outputs": [],
   "source": [
    "a_dict = dict(a = 1, aa = 8787)\n",
    "b_dict = dict(b = 87)"
   ]
  },
  {
   "cell_type": "code",
   "execution_count": 8,
   "metadata": {},
   "outputs": [],
   "source": [
    "c_dict = {**a_dict, **b_dict}"
   ]
  },
  {
   "cell_type": "code",
   "execution_count": 9,
   "metadata": {},
   "outputs": [
    {
     "data": {
      "text/plain": [
       "{'a': 1, 'aa': 8787, 'b': 87}"
      ]
     },
     "execution_count": 9,
     "metadata": {},
     "output_type": "execute_result"
    }
   ],
   "source": [
    "c_dict"
   ]
  },
  {
   "cell_type": "code",
   "execution_count": 5,
   "metadata": {},
   "outputs": [
    {
     "data": {
      "text/plain": [
       "-7569"
      ]
     },
     "execution_count": 5,
     "metadata": {},
     "output_type": "execute_result"
    }
   ],
   "source": [
    "f1(1, X.rep([87, 6, 29]), 1)"
   ]
  },
  {
   "cell_type": "code",
   "execution_count": 4,
   "metadata": {},
   "outputs": [],
   "source": [
    "class Function:\n",
    "\n",
    "    def __call__(self, *args):\n",
    "        return self.func(args)\n",
    "\n",
    "    @abc.abstractmethod\n",
    "    def update_val(self):\n",
    "        return NotImplementedError\n",
    "\n",
    "    @abc.abstractmethod\n",
    "    def func(self):\n",
    "        return NotImplementedError"
   ]
  },
  {
   "cell_type": "code",
   "execution_count": 6,
   "metadata": {},
   "outputs": [],
   "source": [
    "class function1(Function):\n",
    "\n",
    "    def __init__(self, t, parameters):\n",
    "        self.X = parameters[0]\n",
    "        self.Y = parameters[1]\n",
    "        \n",
    "    def update_val(self):\n",
    "        pass\n",
    "    \n",
    "    def func(self):\n",
    "        return self.X.d(1)\n",
    "    "
   ]
  },
  {
   "cell_type": "code",
   "execution_count": null,
   "metadata": {},
   "outputs": [],
   "source": [
    "def f1(t, X_rep, Y_rep):\n",
    "\n",
    "    return - X_rep[X.d(0)]**2\n"
   ]
  },
  {
   "cell_type": "code",
   "execution_count": null,
   "metadata": {},
   "outputs": [],
   "source": [
    "class IC_Solve:\n",
    "\n",
    "    def __init__(self, parameters: List[Variable], ics, functions):\n",
    "\n",
    "        self.parameters = parameters\n",
    "        self.functions = functions\n",
    "        for i, p in enumerate(self.parameters):\n",
    "            p.set_inital_condition(ics[i])\n",
    "\n",
    "    def solve(self, start, stop, step):\n",
    "        \n",
    "        duration = linspace(start, stop, step + 1)\n",
    "        eps = (stop - start)/step\n",
    "        \n",
    "        for p in duration:\n",
    "\n",
    "            for param in self.parameters:\n",
    "                \n",
    "                for i in range(0, 4):\n",
    "\n",
    "                    if i == 0:\n",
    "                        for order in range(param.order):\n",
    "                            param.solution_dict\n",
    "                            pass\n",
    "                    \n",
    "                    elif i == 1 or i == 2:\n",
    "                        pass\n",
    "\n",
    "                    else:\n",
    "                        pass\n",
    "\n",
    "                \n",
    "                \n",
    "\n"
   ]
  },
  {
   "cell_type": "code",
   "execution_count": 14,
   "metadata": {},
   "outputs": [],
   "source": [
    "rrr = set()"
   ]
  },
  {
   "cell_type": "code",
   "execution_count": 15,
   "metadata": {},
   "outputs": [],
   "source": [
    "rrr.add(1)"
   ]
  },
  {
   "cell_type": "code",
   "execution_count": 17,
   "metadata": {},
   "outputs": [
    {
     "ename": "TypeError",
     "evalue": "'set' object is not subscriptable",
     "output_type": "error",
     "traceback": [
      "\u001b[0;31m---------------------------------------------------------------------------\u001b[0m",
      "\u001b[0;31mTypeError\u001b[0m                                 Traceback (most recent call last)",
      "\u001b[0;32m/var/folders/x2/w2gbb51j5yj53k54hlsjn50m0000gn/T/ipykernel_2603/3375923970.py\u001b[0m in \u001b[0;36m<module>\u001b[0;34m\u001b[0m\n\u001b[0;32m----> 1\u001b[0;31m \u001b[0mrrr\u001b[0m\u001b[0;34m[\u001b[0m\u001b[0;36m1\u001b[0m\u001b[0;34m]\u001b[0m\u001b[0;34m\u001b[0m\u001b[0;34m\u001b[0m\u001b[0m\n\u001b[0m",
      "\u001b[0;31mTypeError\u001b[0m: 'set' object is not subscriptable"
     ]
    }
   ],
   "source": [
    "rrr[1]"
   ]
  },
  {
   "cell_type": "code",
   "execution_count": null,
   "metadata": {},
   "outputs": [],
   "source": []
  }
 ],
 "metadata": {
  "interpreter": {
   "hash": "aee8b7b246df8f9039afb4144a1f6fd8d2ca17a180786b69acc140d282b71a49"
  },
  "kernelspec": {
   "display_name": "Python 3.9.10 64-bit",
   "language": "python",
   "name": "python3"
  },
  "language_info": {
   "codemirror_mode": {
    "name": "ipython",
    "version": 3
   },
   "file_extension": ".py",
   "mimetype": "text/x-python",
   "name": "python",
   "nbconvert_exporter": "python",
   "pygments_lexer": "ipython3",
   "version": "3.9.10"
  },
  "orig_nbformat": 4
 },
 "nbformat": 4,
 "nbformat_minor": 2
}
